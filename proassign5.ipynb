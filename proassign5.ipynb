{
 "cells": [
  {
   "cell_type": "markdown",
   "metadata": {},
   "source": [
    "proAssign 5"
   ]
  },
  {
   "cell_type": "code",
   "execution_count": 9,
   "metadata": {},
   "outputs": [
    {
     "data": {
      "text/plain": [
       "120"
      ]
     },
     "execution_count": 9,
     "metadata": {},
     "output_type": "execute_result"
    }
   ],
   "source": [
    "#1. Write a Python Program to Find LCM?\n",
    "def gcd(x,y):\n",
    "    while(y!=0):\n",
    "        x,y=y,x%y\n",
    "    return x\n",
    "\n",
    "def lcm(x,y):\n",
    "    lcm=(x*y)//gcd(x,y)\n",
    "    return lcm\n",
    "\n",
    "lcm(120,60)"
   ]
  },
  {
   "cell_type": "code",
   "execution_count": 10,
   "metadata": {},
   "outputs": [
    {
     "data": {
      "text/plain": [
       "60"
      ]
     },
     "execution_count": 10,
     "metadata": {},
     "output_type": "execute_result"
    }
   ],
   "source": [
    "#2. Write a Python Program to Find HCF?\n",
    "def hcf(x,y):\n",
    "    while(y!=0):\n",
    "        x,y=y,x%y\n",
    "    return x\n",
    "\n",
    "hcf(60,120)"
   ]
  },
  {
   "cell_type": "code",
   "execution_count": 5,
   "metadata": {},
   "outputs": [
    {
     "name": "stdout",
     "output_type": "stream",
     "text": [
      "enter number45\n",
      "binary: 1 0 1 1 0 1\n",
      "Octal: 55\n",
      "Hexadecimal: 2D\n"
     ]
    }
   ],
   "source": [
    "#3. Write a Python Program to Convert Decimal to Binary, Octal and Hexadecimal?\n",
    "def binary(x):\n",
    "    l=[]\n",
    "    while (x!=0):\n",
    "        d=int(x/2)\n",
    "        if (x%2==0):\n",
    "            l.append(str(0))\n",
    "            x=d\n",
    "        else:\n",
    "            l.append(str(1))\n",
    "            x=d\n",
    "    print(\"binary:\",\" \".join(l[::-1]))   \n",
    "def octal(x):\n",
    "        l=[]\n",
    "        while (x!=0):\n",
    "            d=int(x/8)\n",
    "            e=x%8\n",
    "            l.append(str(e))\n",
    "            x=d\n",
    "        print(\"Octal:\",\"\".join(l[::-1]))\n",
    "def hexad(x):\n",
    "    l=[]\n",
    "    dictionary={10:\"A\",11:\"B\",12:\"C\",13:\"D\",14:\"E\",15:\"F\"}\n",
    "    while(x!=0):\n",
    "        d=int(x/16)\n",
    "        e=x%16\n",
    "        for i in dic:\n",
    "            if e==i:\n",
    "                e=dictionary[i]\n",
    "        l.append(str(e))\n",
    "    \n",
    "        x=d\n",
    "    print(\"Hexadecimal:\",\"\".join(l[::-1]))\n",
    "\n",
    "y=int(input(\"enter number:\"))\n",
    "binary(y)\n",
    "octal(y)\n",
    "hexad(y)"
   ]
  },
  {
   "cell_type": "code",
   "execution_count": 10,
   "metadata": {},
   "outputs": [
    {
     "name": "stdout",
     "output_type": "stream",
     "text": [
      "enter character:j\n",
      "ASCII value : 106\n"
     ]
    }
   ],
   "source": [
    "#4. Write a Python Program To Find ASCII value of a character?\n",
    "c=input(\"enter character:\")\n",
    "print(\"ASCII value :\",ord(c))"
   ]
  },
  {
   "cell_type": "code",
   "execution_count": 8,
   "metadata": {},
   "outputs": [
    {
     "name": "stdout",
     "output_type": "stream",
     "text": [
      "enter first number:\n",
      "400\n",
      "enter second number:20\n",
      "enter desired operation:\n",
      " +\n",
      " - \n",
      " * \n",
      " / \n",
      "*\n",
      "multiplication of 400 and 20 is: 8000\n"
     ]
    }
   ],
   "source": [
    "#5. Write a Python Program to Make a Simple Calculator with 4 basic mathematical operations?\n",
    "a=int(input(\"enter first number:\\n\"))\n",
    "b=int(input(\"enter second number:\"))\n",
    "c=input(\"enter desired operation:\\n +\\n - \\n * \\n / \\n\")\n",
    "if c==\"+\":\n",
    "    print(f'addition of {a} and {b} is:',+\n",
    "          a+b)\n",
    "elif c==\"-\":\n",
    "    print(f'subtraction of {a} and {b} is:',a-b)\n",
    "elif c==\"*\":\n",
    "    print(f'multiplication of {a} and {b} is:',a*b)\n",
    "else:\n",
    "    print(f'division of {a} and {b} is:',a/b)"
   ]
  },
  {
   "cell_type": "code",
   "execution_count": null,
   "metadata": {},
   "outputs": [],
   "source": []
  }
 ],
 "metadata": {
  "kernelspec": {
   "display_name": "Python 3",
   "language": "python",
   "name": "python3"
  },
  "language_info": {
   "codemirror_mode": {
    "name": "ipython",
    "version": 3
   },
   "file_extension": ".py",
   "mimetype": "text/x-python",
   "name": "python",
   "nbconvert_exporter": "python",
   "pygments_lexer": "ipython3",
   "version": "3.7.4"
  }
 },
 "nbformat": 4,
 "nbformat_minor": 2
}
