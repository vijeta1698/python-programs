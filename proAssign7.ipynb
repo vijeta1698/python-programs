{
 "cells": [
  {
   "cell_type": "code",
   "execution_count": 5,
   "metadata": {},
   "outputs": [
    {
     "name": "stdout",
     "output_type": "stream",
     "text": [
      "Enter size of array:4\n",
      "enter element for 0 position:20\n",
      "enter element for 1 position:20\n",
      "enter element for 2 position:40\n",
      "enter element for 3 position:50\n",
      "sum:  130\n"
     ]
    }
   ],
   "source": [
    "#1. Write a Python Program to find sum of array?\n",
    "m=int(input(\"Enter size of array:\"))\n",
    "sum=0\n",
    "for i in range(m):\n",
    "    n=int(input(f'enter element for {i} position:'))\n",
    "    sum+=n\n",
    "print(\"sum: \",sum)\n",
    "    "
   ]
  },
  {
   "cell_type": "code",
   "execution_count": 10,
   "metadata": {},
   "outputs": [
    {
     "data": {
      "text/plain": [
       "90"
      ]
     },
     "execution_count": 10,
     "metadata": {},
     "output_type": "execute_result"
    }
   ],
   "source": [
    "#2. Write a Python Program to find largest element in an array?\n",
    "arr=[2,5,6,78,90]\n",
    "max=arr[0]\n",
    "for i in range(len(arr)):\n",
    "    if arr[i]>max:\n",
    "        max=arr[i]\n",
    "max"
   ]
  },
  {
   "cell_type": "code",
   "execution_count": 12,
   "metadata": {},
   "outputs": [
    {
     "data": {
      "text/plain": [
       "[67, 78, 690, 5, 2]"
      ]
     },
     "execution_count": 12,
     "metadata": {},
     "output_type": "execute_result"
    }
   ],
   "source": [
    "#3. Write a Python Program for array rotation?\n",
    "arr=[2,5,690,78,67]\n",
    "arr[::-1]"
   ]
  },
  {
   "cell_type": "code",
   "execution_count": 38,
   "metadata": {},
   "outputs": [
    {
     "name": "stdout",
     "output_type": "stream",
     "text": [
      "first part: [1, 4, 5, 6, 7]\n",
      "second part: [8, 9, 2, 3, 4, 5]\n",
      "adding first part to the end:\n"
     ]
    },
    {
     "data": {
      "text/plain": [
       "[8, 9, 2, 3, 4, 5, 1, 4, 5, 6, 7]"
      ]
     },
     "execution_count": 38,
     "metadata": {},
     "output_type": "execute_result"
    }
   ],
   "source": [
    "#4. Write a Python Program to Split the array and add the first part to the end?\n",
    "arr=[1,4,5,6,7,8,9,2,3,4,5]\n",
    "l=int(len(arr)/2)\n",
    "first_part= arr[:l]\n",
    "print(\"first part:\",first_part)\n",
    "end_part=arr[l:]\n",
    "print(\"second part:\",end_part)\n",
    "print(\"adding first part to the end:\")\n",
    "end_part+first_part"
   ]
  },
  {
   "cell_type": "code",
   "execution_count": 7,
   "metadata": {},
   "outputs": [
    {
     "name": "stdout",
     "output_type": "stream",
     "text": [
      "enter size of array:5\n",
      "5\n",
      "4\n",
      "3\n",
      "2\n",
      "1\n"
     ]
    },
    {
     "data": {
      "text/plain": [
       "'monotone decreasing'"
      ]
     },
     "execution_count": 7,
     "metadata": {},
     "output_type": "execute_result"
    }
   ],
   "source": [
    "#5.\n",
    "def mono(m):\n",
    "    if all((m[i])<=m[i+1] for i in range(len(m)-1)):\n",
    "        return \"monotone increasing\"\n",
    "    elif all((m[i]>=m[i+1] for i in range(len(m)-1))):\n",
    "        return \"monotone decreasing\"\n",
    "    return \"not monotonic\"\n",
    "    \n",
    "l=[]\n",
    "n=int(input(\"enter size of array:\"))\n",
    "for i in range(n):\n",
    "    num=int(input())\n",
    "    l.append(num)\n",
    "\n",
    "mono(l)"
   ]
  }
 ],
 "metadata": {
  "kernelspec": {
   "display_name": "Python 3",
   "language": "python",
   "name": "python3"
  },
  "language_info": {
   "codemirror_mode": {
    "name": "ipython",
    "version": 3
   },
   "file_extension": ".py",
   "mimetype": "text/x-python",
   "name": "python",
   "nbconvert_exporter": "python",
   "pygments_lexer": "ipython3",
   "version": "3.7.4"
  }
 },
 "nbformat": 4,
 "nbformat_minor": 2
}
