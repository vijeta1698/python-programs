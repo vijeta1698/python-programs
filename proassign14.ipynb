{
 "cells": [
  {
   "cell_type": "code",
   "execution_count": 14,
   "metadata": {},
   "outputs": [
    {
     "name": "stdout",
     "output_type": "stream",
     "text": [
      "0\n",
      "7\n",
      "14\n",
      "21\n",
      "28\n",
      "35\n"
     ]
    }
   ],
   "source": [
    "'''Question 1:\n",
    "Define a class with a generator which can iterate the numbers, which are divisible by\n",
    "7, between a given range 0 and n.\n",
    "'''\n",
    "\n",
    "class cls:\n",
    "    def itr(ss,num):\n",
    "        ss.n=num\n",
    "        for i in (range(num)):\n",
    "            if i%7==0:\n",
    "                yield i\n",
    "c=cls()\n",
    "cc=c.itr(40)\n",
    "for i in cc:\n",
    "    print(i)"
   ]
  },
  {
   "cell_type": "code",
   "execution_count": 142,
   "metadata": {},
   "outputs": [
    {
     "name": "stdout",
     "output_type": "stream",
     "text": [
      "2:2\n",
      "3:1\n",
      "3?:1\n",
      "New:1\n",
      "Python:5\n",
      "Read:1\n",
      "and:1\n",
      "between:1\n",
      "choosing:1\n",
      "or:2\n",
      "to:1\n"
     ]
    }
   ],
   "source": [
    "'''\n",
    "Question 2:\n",
    "Write a program to compute the frequency of the words from the input. The output\n",
    "should output after sorting the key alphanumerically.\n",
    "Suppose the following input is supplied to the program:\n",
    "New to Python or choosing between Python 2 and Python 3? Read Python 2 or\n",
    "Python 3.\n",
    "Then, the output should be:\n",
    "2:2\n",
    "3:1\n",
    "3?:1\n",
    "New:1\n",
    "Python:5\n",
    "Read:1\n",
    "and:1\n",
    "between:1\n",
    "choosing:1\n",
    "or:2\n",
    "to:1\n",
    "'''\n",
    "\n",
    "st=\"New to Python or choosing between Python 2 and Python 3? Read Python 2 or Python 3\"\n",
    "st=sorted(st.split())\n",
    "unique=[]\n",
    "for i in st:\n",
    "    if i not in unique:\n",
    "        unique.append(i)\n",
    "for i in range(len(unique)):\n",
    "    print(unique[i],\":\",st.count(unique[i]),sep=\"\")"
   ]
  },
  {
   "cell_type": "code",
   "execution_count": 15,
   "metadata": {},
   "outputs": [
    {
     "name": "stdout",
     "output_type": "stream",
     "text": [
      "perosn is\n",
      "male\n"
     ]
    }
   ],
   "source": [
    "'''\n",
    "Question 3:\n",
    "\n",
    "Define a class Person and its two child classes: Male and Female. All classes have a\n",
    "method &quot;getGender&quot; which can print &quot;Male&quot; for Male class and &quot;Female&quot; for Female\n",
    "class.\n",
    "'''\n",
    "class person:\n",
    "    def getgen(ss):\n",
    "        return \"perosn is\"\n",
    "class male(person):\n",
    "    def getgender(ss):\n",
    "        return \"male\"\n",
    "class female(person):\n",
    "    def getgender(ss):\n",
    "        return \"female\"\n",
    "    \n",
    "m=male()\n",
    "f=female()\n",
    "print(m.getgen())\n",
    "print(m.getgender())#print(f.getgender()) for female \n",
    "\n",
    "\n"
   ]
  },
  {
   "cell_type": "code",
   "execution_count": 38,
   "metadata": {},
   "outputs": [
    {
     "name": "stdout",
     "output_type": "stream",
     "text": [
      "i play hockey.\n",
      "i play football.\n",
      "i love hockey.\n",
      "i love football.\n",
      "you play hockey.\n",
      "you play football.\n",
      "you love hockey.\n",
      "you love football.\n"
     ]
    }
   ],
   "source": [
    "'''\n",
    "Question 4:\n",
    "Please write a program to generate all sentences where subject is in [&quot;I&quot;, &quot;You&quot;] and\n",
    "verb is in [&quot;Play&quot;, &quot;Love&quot;] and the object is in [&quot;Hockey&quot;,&quot;Football&quot;].\n",
    "'''\n",
    "sub=[\"i\",\"you\"]\n",
    "verb=[\"play\",\"love\"]\n",
    "obj=[\"hockey\",\"football\"]\n",
    "for i in range(len(sub)):\n",
    "    for j in range(len(verb)):\n",
    "        for k in range(len(obj)):\n",
    "            sent=\"%s %s %s.\"%(sub[i],verb[j],obj[k])\n",
    "            print(sent)"
   ]
  },
  {
   "cell_type": "code",
   "execution_count": 114,
   "metadata": {},
   "outputs": [
    {
     "name": "stdout",
     "output_type": "stream",
     "text": [
      "the index of grapes in the list is:  3\n"
     ]
    }
   ],
   "source": [
    "'''\n",
    "Question 6:\n",
    "Please write a binary search function which searches an item in a sorted list. The\n",
    "function should return the index of element to be searched in the list.\n",
    "'''\n",
    "def b_search(name):\n",
    "    l=[\"apple\",\"banana\",\"manggo\",\"grapes\",\"papaya\",\"watermelon\"]\n",
    "    sorted(l)\n",
    "    for i in l:\n",
    "        if i==name:\n",
    "            print(\"the index of \"+i+ \" in the list is: \",l.index(i))\n",
    "            break\n",
    "    if i!=name:\n",
    "        print(\"no item found\")\n",
    "        \n",
    "        \n",
    "b_search(\"grapes\")"
   ]
  },
  {
   "cell_type": "code",
   "execution_count": 11,
   "metadata": {},
   "outputs": [
    {
     "name": "stdout",
     "output_type": "stream",
     "text": [
      "hello world hello\n",
      "1h1e2l2o2 2w2o2r2l2d2 2h2e3l3o\n"
     ]
    }
   ],
   "source": []
  },
  {
   "cell_type": "code",
   "execution_count": null,
   "metadata": {},
   "outputs": [],
   "source": []
  }
 ],
 "metadata": {
  "kernelspec": {
   "display_name": "Python 3",
   "language": "python",
   "name": "python3"
  },
  "language_info": {
   "codemirror_mode": {
    "name": "ipython",
    "version": 3
   },
   "file_extension": ".py",
   "mimetype": "text/x-python",
   "name": "python",
   "nbconvert_exporter": "python",
   "pygments_lexer": "ipython3",
   "version": "3.7.4"
  }
 },
 "nbformat": 4,
 "nbformat_minor": 2
}
