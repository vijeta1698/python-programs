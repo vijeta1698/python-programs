{
 "cells": [
  {
   "cell_type": "code",
   "execution_count": 6,
   "metadata": {},
   "outputs": [
    {
     "name": "stdout",
     "output_type": "stream",
     "text": [
      "enter number:34\n",
      "not a disarium number!!\n"
     ]
    }
   ],
   "source": [
    "#1.Write a Python program to check if the given number is a Disarium Number?\n",
    "try:\n",
    "    n=int(input(\"enter number:\"))\n",
    "    d=str(n)\n",
    "    si=0\n",
    "    for i in range(1,len(d)):\n",
    "        for j in range(len(d)):\n",
    "            si=si+pow(int(d[j]),i)\n",
    "            i+=1\n",
    "        break\n",
    "    if n==si:\n",
    "        print(\"Disarium Number\")\n",
    "    else:\n",
    "        print(\"not a Disarium Number!!\")\n",
    "except Exception as e:\n",
    "    print(e)"
   ]
  },
  {
   "cell_type": "code",
   "execution_count": 7,
   "metadata": {},
   "outputs": [
    {
     "name": "stdout",
     "output_type": "stream",
     "text": [
      "disarium numbers between 1 to 100 are:\n",
      "1\n",
      "2\n",
      "3\n",
      "4\n",
      "5\n",
      "6\n",
      "7\n",
      "8\n",
      "9\n",
      "89\n"
     ]
    }
   ],
   "source": [
    "#2. Write a Python program to print all disarium numbers between 1 to 100?\n",
    "print(\"disarium numbers between 1 to 100 are:\")\n",
    "for i in range(1,101):\n",
    "    d=str(i)\n",
    "    si=0\n",
    "    for j in range(1,len(d)+1):\n",
    "            for k in range(len(d)):\n",
    "                si=si+ pow(int(d[k]),j)\n",
    "                j+=1\n",
    "            break\n",
    "    if i==si:\n",
    "        print(i)            "
   ]
  },
  {
   "cell_type": "code",
   "execution_count": 10,
   "metadata": {
    "scrolled": true
   },
   "outputs": [
    {
     "name": "stdout",
     "output_type": "stream",
     "text": [
      "Enter Number:156\n",
      "its a Harshad Number\n"
     ]
    }
   ],
   "source": [
    "#5. Write a Python program to determine whether the given number is a Harshad Number?\n",
    "n=int(input(\"Enter Number:\"))\n",
    "d=str(n)\n",
    "s=0\n",
    "for i in range(len(d)):\n",
    "    s=s+int(d[i]) \n",
    "if n%s==0:\n",
    "    print(\"its a Harshad Number\")\n",
    "else:\n",
    "    print(\"not a Harshad Number\")"
   ]
  },
  {
   "cell_type": "code",
   "execution_count": 1,
   "metadata": {},
   "outputs": [
    {
     "name": "stdout",
     "output_type": "stream",
     "text": [
      "2\n",
      "6\n",
      "12\n",
      "20\n",
      "30\n",
      "42\n",
      "56\n",
      "72\n",
      "90\n"
     ]
    }
   ],
   "source": [
    "#6. Write a Python program to print all pronic numbers between 1 and 100?\n",
    "print(\"pronic numbers between 1 and 100\")\n",
    "for i in range(1,10):\n",
    "    print(i*(i+1))"
   ]
  },
  {
   "cell_type": "code",
   "execution_count": 2,
   "metadata": {},
   "outputs": [
    {
     "name": "stdout",
     "output_type": "stream",
     "text": [
      "23\n",
      "13\n"
     ]
    }
   ],
   "source": [
    "n=int(input())\n",
    "rem=0\n",
    "s=0\n",
    "while (n>0):\n",
    "    rem=n%10\n",
    "    s=s+(rem*rem)\n",
    "    n=n//10\n",
    "print(s)\n",
    "    \n",
    "    \n",
    "    "
   ]
  },
  {
   "cell_type": "code",
   "execution_count": 3,
   "metadata": {},
   "outputs": [
    {
     "data": {
      "text/plain": [
       "2"
      ]
     },
     "execution_count": 3,
     "metadata": {},
     "output_type": "execute_result"
    }
   ],
   "source": [
    "12%10"
   ]
  },
  {
   "cell_type": "code",
   "execution_count": null,
   "metadata": {},
   "outputs": [],
   "source": []
  }
 ],
 "metadata": {
  "kernelspec": {
   "display_name": "Python 3",
   "language": "python",
   "name": "python3"
  },
  "language_info": {
   "codemirror_mode": {
    "name": "ipython",
    "version": 3
   },
   "file_extension": ".py",
   "mimetype": "text/x-python",
   "name": "python",
   "nbconvert_exporter": "python",
   "pygments_lexer": "ipython3",
   "version": "3.7.4"
  }
 },
 "nbformat": 4,
 "nbformat_minor": 2
}
