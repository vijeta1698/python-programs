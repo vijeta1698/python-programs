{
 "cells": [
  {
   "cell_type": "code",
   "execution_count": 7,
   "metadata": {
    "scrolled": true
   },
   "outputs": [
    {
     "name": "stdout",
     "output_type": "stream",
     "text": [
      "ENter number of rows:2\n",
      "Enter number of columns:2\n",
      "enter valuw0 0 1\n",
      "enter valuw0 1 2\n",
      "enter valuw1 0 3\n",
      "enter valuw1 1 4\n",
      "1 2 \n",
      "3 4 \n",
      "enter values for 2nd matrix\n",
      "enter number of rows:2\n",
      "enter number of columns:2\n",
      "enter value 00 1\n",
      "enter value 01 2\n",
      "enter value 10 3\n",
      "enter value 11 4\n",
      "1 2 \n",
      "3 4 \n",
      "addition\n",
      "2 4 \n",
      "6 8 \n"
     ]
    }
   ],
   "source": [
    "#1. Write a Python Program to Add Two Matrices?\n",
    "r1=int(input(\"ENter number of rows:\"))\n",
    "c1=int(input(\"Enter number of columns:\"))\n",
    "mat=[]\n",
    "for i in range(r1):\n",
    "    ci=[]\n",
    "    for j in range(c1):\n",
    "        j=int(input(\"enter valuw\"+str(i)+\" \"+str(j)+\" \"))\n",
    "        ci.append(j)\n",
    "    mat.append(ci)\n",
    "for i in range(r1):\n",
    "    for j in range(c1):\n",
    "        print(mat[i][j],end=\" \")\n",
    "    print()\n",
    "print(\"enter values for 2nd matrix\")\n",
    "r=int(input(\"enter number of rows:\"))\n",
    "c=int(input(\"enter number of columns:\"))\n",
    "if r1==r and c1==c:\n",
    "    mt=[]\n",
    "    for i in range(r):\n",
    "        ci=[]\n",
    "        for j in range(c):\n",
    "            j=int(input(\"enter value \"+str(i)+\"\"+str(j)+\" \"))\n",
    "            ci.append(j)\n",
    "        mt.append(ci)\n",
    "    for i in range(r):\n",
    "        for j in range(c):\n",
    "            print(mt[i][j],end=\" \")\n",
    "        print()\n",
    "    \n",
    "    print(\"addition\")\n",
    "    for i in range(r):\n",
    "        for j in range(c):\n",
    "            print(mat[i][j]+mt[i][j],end=\" \")\n",
    "        print()\n",
    "else:\n",
    "    print(\"PLEASE ENTER EQUAL DIMENSIONS FOR ADDITION PURPOSE\")"
   ]
  },
  {
   "cell_type": "code",
   "execution_count": 2,
   "metadata": {},
   "outputs": [
    {
     "name": "stdout",
     "output_type": "stream",
     "text": [
      "matrix1:\n",
      "enter number of rows:2\n",
      "enter number of columns:3\n",
      "enter value for 0 0 1\n",
      "enter value for 0 1 2\n",
      "enter value for 0 2 3\n",
      "enter value for 1 0 1\n",
      "enter value for 1 1 2\n",
      "enter value for 1 2 3\n",
      "1 2 3 \n",
      "1 2 3 \n",
      "matrix2:\n",
      "enter number of rows:3\n",
      "enter number of columns:2\n",
      "enter value for 0 0 1\n",
      "enter value for 0 1 2\n",
      "enter value for 1 0 3\n",
      "enter value for 1 1 1\n",
      "enter value for 2 0 2\n",
      "enter value for 2 1 3\n",
      "1 2 \n",
      "3 1 \n",
      "2 3 \n",
      "[[13, 13], [13, 13]]\n"
     ]
    }
   ],
   "source": [
    "#2. Write a Python Program to Multiply Two Matrices?\n",
    "print(\"matrix1:\")\n",
    "r1=int(input(\"enter number of rows:\"))\n",
    "c1=int(input(\"enter number of columns:\"))\n",
    "mat=[]\n",
    "for i in range(r1):\n",
    "    ca=[]\n",
    "    for j in range(c1):\n",
    "        j=int(input(\"enter value for \" +str(i)+\" \"+str(j)+\" \"))\n",
    "        ca.append(j)\n",
    "    mat.append(ca)\n",
    "for i in range(r1):\n",
    "    for j in range(c1):\n",
    "        print(mat[i][j],end=\" \")\n",
    "    print()\n",
    "print(\"matrix2:\")\n",
    "r=int(input(\"enter number of rows:\"))\n",
    "c=int(input(\"enter number of columns:\"))\n",
    "mt=[]\n",
    "for i in range(r):\n",
    "    ct=[]\n",
    "    for j in range(c):\n",
    "        j=int(input(\"enter value for \"+str(i)+\" \"+str(j)+\" \"))\n",
    "        ct.append(j)\n",
    "    mt.append(ct)\n",
    "\n",
    "for i in range(r):\n",
    "    for j in range(c):\n",
    "        print(mt[i][j],end=\" \")\n",
    "    print()\n",
    "res=[]\n",
    "for i in range(0,r1):\n",
    "    res.append([])\n",
    "for i in range(0,r1):\n",
    "    for j in range(0,c):\n",
    "        res[i].append(j)\n",
    "        res[i][j]=0\n",
    "for i in range(len(mat)):\n",
    "    for j in range(len(mt[0])):\n",
    "        for k in range(len(mt)):\n",
    "            res[i][j]+=mat[i][k]*mt[k][j]\n",
    "print(res)"
   ]
  },
  {
   "cell_type": "code",
   "execution_count": 54,
   "metadata": {},
   "outputs": [
    {
     "name": "stdout",
     "output_type": "stream",
     "text": [
      "enter number of rows:2\n",
      "enter number of columns:3\n",
      "enter elements at:0 0 1\n",
      "enter elements at:0 1 2\n",
      "enter elements at:0 2 3\n",
      "enter elements at:1 0 4\n",
      "enter elements at:1 1 5\n",
      "enter elements at:1 2 6\n",
      "1 2 3 \n",
      "4 5 6 \n",
      "1 4 \n",
      "2 5 \n",
      "3 6 \n"
     ]
    }
   ],
   "source": [
    "#3. Write a Python Program to Transpose a Matrix?\n",
    "r=int(input(\"enter number of rows:\"))\n",
    "co=int(input(\"enter number of columns:\"))\n",
    "mat=[]\n",
    "for i in range(r):\n",
    "    c=[]\n",
    "    for j in range(co):\n",
    "        j=int(input(\"enter elements at:\"+str(i)+\" \"+str(j)+\" \"))\n",
    "        c.append(j)\n",
    "    mat.append(c)\n",
    "for i in range(r):\n",
    "    for j in range(co):\n",
    "        print(mat[i][j],end=\" \")\n",
    "    print()\n",
    "res=[]\n",
    "for i in range(co):\n",
    "    res.append([])\n",
    "for i in range(co):\n",
    "    for j in range(r):\n",
    "        t=mat[j][i]\n",
    "        res[i].append(t)\n",
    "for i in range(co):\n",
    "    for j in range(r):\n",
    "        print(res[i][j],end=\" \")\n",
    "    print()\n",
    "        \n",
    "\n",
    "\n",
    "\n",
    "\n"
   ]
  },
  {
   "cell_type": "code",
   "execution_count": 9,
   "metadata": {},
   "outputs": [
    {
     "name": "stdout",
     "output_type": "stream",
     "text": [
      "enter string or words:vijeta jatin megha\n",
      "After Sorting\n",
      "jatin\n",
      "megha\n",
      "vijeta\n"
     ]
    }
   ],
   "source": [
    "#4.Write a Python Program to Sort Words in Alphabetic Order?\n",
    "stt=input(\"enter string or words:\")\n",
    "wrd=stt.split()\n",
    "wrd.sort()\n",
    "wrd\n",
    "print(\"After Sorting\")\n",
    "for i in wrd:\n",
    "    print(i)\n"
   ]
  },
  {
   "cell_type": "code",
   "execution_count": 1,
   "metadata": {},
   "outputs": [
    {
     "name": "stdout",
     "output_type": "stream",
     "text": [
      "entervijeta sharma!\n",
      "vijeta sharma\n"
     ]
    }
   ],
   "source": [
    "#5.Write a Python Program to Remove Punctuation From a String?\n",
    "st=input(\"enter\")\n",
    "dtt={1:\"''\",2:\".\",3:\"!\",4:\":\",5:\",\",6:\";\",7:\"'\",8:\"-\",9:\"()\",10:\"[]\",11:\"?\",12:\"/\"}\n",
    "for i in st:\n",
    "    for j in dtt:\n",
    "        if dtt[j] in st:\n",
    "            st=st.replace(dtt[j],'')\n",
    "print(st)\n",
    "\n",
    "            \n",
    "                \n",
    "                "
   ]
  },
  {
   "cell_type": "code",
   "execution_count": null,
   "metadata": {},
   "outputs": [],
   "source": []
  },
  {
   "cell_type": "code",
   "execution_count": null,
   "metadata": {},
   "outputs": [],
   "source": []
  }
 ],
 "metadata": {
  "kernelspec": {
   "display_name": "Python 3",
   "language": "python",
   "name": "python3"
  },
  "language_info": {
   "codemirror_mode": {
    "name": "ipython",
    "version": 3
   },
   "file_extension": ".py",
   "mimetype": "text/x-python",
   "name": "python",
   "nbconvert_exporter": "python",
   "pygments_lexer": "ipython3",
   "version": "3.7.4"
  }
 },
 "nbformat": 4,
 "nbformat_minor": 2
}
