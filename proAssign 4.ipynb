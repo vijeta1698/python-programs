{
 "cells": [
  {
   "cell_type": "markdown",
   "metadata": {},
   "source": [
    "PRO.ASSIGN. 4"
   ]
  },
  {
   "cell_type": "code",
   "execution_count": 73,
   "metadata": {},
   "outputs": [
    {
     "name": "stdout",
     "output_type": "stream",
     "text": [
      "enter number:5\n"
     ]
    },
    {
     "data": {
      "text/plain": [
       "120"
      ]
     },
     "execution_count": 73,
     "metadata": {},
     "output_type": "execute_result"
    }
   ],
   "source": [
    "#1. Write a Python Program to Find the Factorial of a Number?\n",
    "num=int(input(\"enter number:\"))\n",
    "fac=1\n",
    "for i in range(num,0,-1):\n",
    "    fac=fac*i\n",
    "fac    "
   ]
  },
  {
   "cell_type": "code",
   "execution_count": 72,
   "metadata": {},
   "outputs": [
    {
     "name": "stdout",
     "output_type": "stream",
     "text": [
      "enter number:7\n",
      "7x1= 7\n",
      "7x2= 14\n",
      "7x3= 21\n",
      "7x4= 28\n",
      "7x5= 35\n",
      "7x6= 42\n",
      "7x7= 49\n",
      "7x8= 56\n",
      "7x9= 63\n",
      "7x10= 70\n"
     ]
    }
   ],
   "source": [
    "#2. Write a Python Program to Display the multiplication Table?\n",
    "num=int(input(\"enter number:\"))\n",
    "for i in range(1,11):\n",
    "    mul=num*i\n",
    "    print(f'{num}x{i}=',mul)"
   ]
  },
  {
   "cell_type": "code",
   "execution_count": 8,
   "metadata": {},
   "outputs": [
    {
     "name": "stdout",
     "output_type": "stream",
     "text": [
      "enter number of terms:5\n",
      "0\n",
      "1\n",
      "1\n",
      "2\n",
      "3\n"
     ]
    }
   ],
   "source": [
    "#3. Write a Python Program to Print the Fibonacci sequence?\n",
    "nums=int(input(\"enter number of terms:\"))\n",
    "n=0\n",
    "n1=1\n",
    "count=0\n",
    "\n",
    "if nums<=0:\n",
    "    print(\"enter positive value\")\n",
    "else:\n",
    "    while count<nums:\n",
    "        print(n)\n",
    "        nth=n+n1\n",
    "        n=n1\n",
    "        n1=nth\n",
    "        count+=1\n",
    "    \n",
    "    \n",
    "    "
   ]
  },
  {
   "cell_type": "code",
   "execution_count": 1,
   "metadata": {},
   "outputs": [
    {
     "name": "stdout",
     "output_type": "stream",
     "text": [
      "enter number:153\n",
      "armstrong\n"
     ]
    }
   ],
   "source": [
    "#4. Write a Python Program to Check Armstrong Number?\n",
    "num=int(input(\"enter number:\"))\n",
    "a=num%10\n",
    "b=int(num/100)\n",
    "c=int((num/10)%10)\n",
    "sum=0\n",
    "sum=b*b*b + c*c*c + a*a*a\n",
    "if num==sum:\n",
    "    print(\"armstrong\")\n",
    "else:\n",
    "    print(\"not armstrong\")\n",
    "\n"
   ]
  },
  {
   "cell_type": "code",
   "execution_count": 1,
   "metadata": {},
   "outputs": [
    {
     "name": "stdout",
     "output_type": "stream",
     "text": [
      "153\n",
      "370\n",
      "371\n"
     ]
    }
   ],
   "source": [
    "#5. Write a Python Program to Find Armstrong Number in an Interval?\n",
    "l=100\n",
    "u=400\n",
    "for i in range(l,u+1):\n",
    "    sum=0\n",
    "    a=i%10\n",
    "    b=int(i/100)\n",
    "    c=int((i/10))%10\n",
    "    sum=b*b*b+c*c*c+a*a*a\n",
    "    if i==sum:\n",
    "         print(i)\n",
    "\n",
    "        \n",
    "        \n"
   ]
  },
  {
   "cell_type": "code",
   "execution_count": 15,
   "metadata": {},
   "outputs": [
    {
     "name": "stdout",
     "output_type": "stream",
     "text": [
      "Enter first term:1\n",
      "Enter last term:100\n",
      "SUM OF NATURAL NUMBERS BETWEEN 1 and 100 is: 5050.0\n"
     ]
    }
   ],
   "source": [
    "#6. Write a Python Program to Find the Sum of Natural Numbers?\n",
    "f=int(input(\"Enter first term:\"))\n",
    "l=int(input(\"Enter last term:\"))\n",
    "s=[]\n",
    "for i in range(f,l+1):\n",
    "    d=[i]\n",
    "    s=s+d\n",
    "length=len(s)\n",
    "sum=0\n",
    "sum=(length/2)*(f+l)\n",
    "print(f'SUM OF NATURAL NUMBERS BETWEEN {f} and {l} is:',sum)\n"
   ]
  },
  {
   "cell_type": "code",
   "execution_count": null,
   "metadata": {},
   "outputs": [],
   "source": []
  },
  {
   "cell_type": "code",
   "execution_count": null,
   "metadata": {},
   "outputs": [],
   "source": []
  }
 ],
 "metadata": {
  "kernelspec": {
   "display_name": "Python 3",
   "language": "python",
   "name": "python3"
  },
  "language_info": {
   "codemirror_mode": {
    "name": "ipython",
    "version": 3
   },
   "file_extension": ".py",
   "mimetype": "text/x-python",
   "name": "python",
   "nbconvert_exporter": "python",
   "pygments_lexer": "ipython3",
   "version": "3.7.4"
  }
 },
 "nbformat": 4,
 "nbformat_minor": 2
}
