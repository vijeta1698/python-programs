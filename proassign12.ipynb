{
 "cells": [
  {
   "cell_type": "code",
   "execution_count": 24,
   "metadata": {},
   "outputs": [
    {
     "name": "stdout",
     "output_type": "stream",
     "text": [
      "unique values in above dictionary are:\n",
      "vijeta,[1,2,3],mca,b,101\n"
     ]
    }
   ],
   "source": [
    "#1. Write a Python program to Extract Unique values dictionary values?\n",
    "diction={1:\"vijeta\",2:\"101\",3:\"mca\",4:\"101\",5:\"b\",6:\"[1,2,3]\"}\n",
    "st=set(diction.values())\n",
    "print(\"unique values in above dictionary are:\")\n",
    "print(*st,sep=\",\")"
   ]
  },
  {
   "cell_type": "code",
   "execution_count": 120,
   "metadata": {},
   "outputs": [
    {
     "name": "stdout",
     "output_type": "stream",
     "text": [
      "sum of all items in dictionary:  258\n"
     ]
    }
   ],
   "source": [
    "#2. Write a Python program to find the sum of all items in a dictionary?\n",
    "dit={1:\"11\",2:\"30\",3:\"50\",4:\"66\",5:\"101\"}\n",
    "s=0\n",
    "\n",
    "for i in dit:\n",
    "    s+=int(dit[i])\n",
    "print(\"sum of all items in dictionary: \",s)"
   ]
  },
  {
   "cell_type": "code",
   "execution_count": 69,
   "metadata": {},
   "outputs": [
    {
     "data": {
      "text/plain": [
       "{1: 100, 2: 'vijeta', 3: 500, 'a': 400, 'b': 600}"
      ]
     },
     "execution_count": 69,
     "metadata": {},
     "output_type": "execute_result"
    }
   ],
   "source": [
    "#3. Write a Python program to Merging two Dictionaries?\n",
    "def merge(dict1,dict2):\n",
    "    res={**dict1,**dict2}\n",
    "    return res\n",
    "\n",
    "dic1={1:100,2:\"vijeta\",3:500}\n",
    "dic2={'a':400,'b':600}\n",
    "merge(dic1,dic2)\n",
    "\n"
   ]
  },
  {
   "cell_type": "code",
   "execution_count": 82,
   "metadata": {},
   "outputs": [
    {
     "name": "stdout",
     "output_type": "stream",
     "text": [
      "original dictionary:\n",
      "{'month_num': [1, 2, 3, 4, 5, 6], 'name_of_month': ['Jan', 'Feb', 'March', 'Apr', 'May', 'June']}\n",
      "{1: 'Jan', 2: 'Feb', 3: 'March', 4: 'Apr', 5: 'May', 6: 'June'}\n"
     ]
    }
   ],
   "source": [
    "#4. Write a Python program to convert key-values list to flat dictionary?\n",
    "org_dict={'month_num': [1, 2, 3, 4, 5, 6], 'name_of_month': ['Jan', 'Feb', 'March', 'Apr', 'May', 'June']}\n",
    "print(\"original dictionary:\")\n",
    "print(org_dict)\n",
    "flat_dict=dict(zip(org_dict['month_num'],org_dict['name_of_month']))\n",
    "print(flat_dict)"
   ]
  },
  {
   "cell_type": "code",
   "execution_count": 26,
   "metadata": {},
   "outputs": [
    {
     "name": "stdout",
     "output_type": "stream",
     "text": [
      "original dictionary \n",
      " {1: 'apple', 2: 'banana', 3: 'pineapple', 4: 'papaya'} \n",
      "\n",
      "item to be inserted: [(5, 'orange')] \n",
      "\n",
      "new dictionary after insertion at the beginning:\n",
      "  {5: 'orange', 1: 'apple', 2: 'banana', 3: 'pineapple', 4: 'papaya'}\n"
     ]
    }
   ],
   "source": [
    "#5. Write a Python program to insertion at the beginning in OrderedDict?\n",
    "from collections import OrderedDict\n",
    "od=OrderedDict()\n",
    "od={1:\"apple\",2:\"banana\",3:\"pineapple\",4:\"papaya\"}\n",
    "print(\"original dictionary \\n\",od,\"\\n\")\n",
    "new_d={5:\"orange\"}\n",
    "print(\"item to be inserted:\",list(new_d.items()),\"\\n\")\n",
    "new_d.update(od)\n",
    "print(\"new dictionary after insertion at the beginning:\\n \",new_d)\n"
   ]
  },
  {
   "cell_type": "code",
   "execution_count": 25,
   "metadata": {},
   "outputs": [
    {
     "name": "stdout",
     "output_type": "stream",
     "text": [
      "sorting by keys:\n",
      "[1, 2, 3, 4, 5]\n",
      "sort by values:\n",
      "['aman', 'jatin', 'megha', 'soru', 'vijeta']\n",
      "dictionay key value pair:\n",
      "[(1, 'soru'), (2, 'jatin'), (3, 'vijeta'), (4, 'megha'), (5, 'aman')]\n"
     ]
    }
   ],
   "source": [
    "#7. Write a Python program to sort Python Dictionaries by Key or Value?\n",
    "dic={3:\"vijeta\",2:\"jatin\",1:\"soru\",4:\"megha\",5:\"aman\"}\n",
    "print(\"sorting by keys:\")\n",
    "print(sorted(dic.keys()))\n",
    "print(\"sort by values:\")\n",
    "print(sorted(dic.values()))\n",
    "print(\"dictionay key value pair:\")\n",
    "print(sorted(dic.items()))\n"
   ]
  },
  {
   "cell_type": "code",
   "execution_count": null,
   "metadata": {},
   "outputs": [],
   "source": []
  }
 ],
 "metadata": {
  "kernelspec": {
   "display_name": "Python 3",
   "language": "python",
   "name": "python3"
  },
  "language_info": {
   "codemirror_mode": {
    "name": "ipython",
    "version": 3
   },
   "file_extension": ".py",
   "mimetype": "text/x-python",
   "name": "python",
   "nbconvert_exporter": "python",
   "pygments_lexer": "ipython3",
   "version": "3.7.4"
  }
 },
 "nbformat": 4,
 "nbformat_minor": 2
}
