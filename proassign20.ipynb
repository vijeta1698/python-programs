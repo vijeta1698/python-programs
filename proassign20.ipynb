{
 "cells": [
  {
   "cell_type": "code",
   "execution_count": 6,
   "metadata": {},
   "outputs": [
    {
     "data": {
      "text/plain": [
       "[0, 1729]"
      ]
     },
     "execution_count": 6,
     "metadata": {},
     "output_type": "execute_result"
    }
   ],
   "source": [
    "'''\n",
    "Question1\n",
    "Create a function that takes a list of strings and integers, and filters out the list so that it\n",
    "returns a list of integers only.\n",
    "Examples\n",
    "filter_list([1, 2, 3, &quot;a&quot;, &quot;b&quot;, 4]) ➞ [1, 2, 3, 4]\n",
    "filter_list([&quot;A&quot;, 0, &quot;Edabit&quot;, 1729, &quot;Python&quot;, &quot;1729&quot;]) ➞ [0, 1729]\n",
    "filter_list([&quot;Nothing&quot;, &quot;here&quot;]) ➞ []\n",
    "\n",
    "'''\n",
    "def filter_list(l=[]):\n",
    "    ll=[]\n",
    "    for i in l:\n",
    "        if type(i)==int:\n",
    "            ll.append(i)\n",
    "        if ll.count(i)>1:\n",
    "            ll.remove(i)\n",
    "    return ll\n",
    "\n",
    "filter_list([\"A\",0,\"Edabit\",1729,\"python\",1729])"
   ]
  },
  {
   "cell_type": "code",
   "execution_count": 10,
   "metadata": {},
   "outputs": [
    {
     "data": {
      "text/plain": [
       "[0, 1, 2, 3, 4]"
      ]
     },
     "execution_count": 10,
     "metadata": {},
     "output_type": "execute_result"
    }
   ],
   "source": [
    "'''\n",
    "Question2\n",
    "Given a list of numbers, create a function which returns the list but with each element&#39;s\n",
    "index in the list added to itself. This means you add 0 to the number at index 0, add 1 to the\n",
    "number at index 1, etc...\n",
    "Examples\n",
    "add_indexes([0, 0, 0, 0, 0]) ➞ [0, 1, 2, 3, 4]\n",
    "add_indexes([1, 2, 3, 4, 5]) ➞ [1, 3, 5, 7, 9]\n",
    "add_indexes([5, 4, 3, 2, 1]) ➞ [5, 5, 5, 5, 5]\n",
    "'''\n",
    "def add_indexes(l=[]):\n",
    "    c=0\n",
    "    ll=[]\n",
    "    for i in l:\n",
    "        ll.append(i+c)\n",
    "        c+=1\n",
    "    return ll\n",
    "\n",
    "\n",
    "add_indexes([0,0,0,0,0])\n",
    "        "
   ]
  },
  {
   "cell_type": "code",
   "execution_count": 45,
   "metadata": {},
   "outputs": [
    {
     "data": {
      "text/plain": [
       "565.49"
      ]
     },
     "execution_count": 45,
     "metadata": {},
     "output_type": "execute_result"
    }
   ],
   "source": [
    "'''\n",
    "Question3\n",
    "Create a function that takes the height and radius of a cone as arguments and returns the\n",
    "volume of the cone rounded to the nearest hundredth. See the resources tab for the formula.\n",
    "\n",
    "Examples\n",
    "cone_volume(3, 2) ➞ 12.57\n",
    "\n",
    "cone_volume(15, 6) ➞ 565.49\n",
    "cone_volume(18, 0) ➞ 0\n",
    "'''\n",
    "import math as m\n",
    "def cone_volume(h,r):\n",
    "    pi=m.pi\n",
    "    vol=pi*r*r*h*(1/3)\n",
    "    return round(vol,2)\n",
    "\n",
    "\n",
    "cone_volume(15,6)"
   ]
  },
  {
   "cell_type": "code",
   "execution_count": 60,
   "metadata": {},
   "outputs": [
    {
     "data": {
      "text/plain": [
       "23220"
      ]
     },
     "execution_count": 60,
     "metadata": {},
     "output_type": "execute_result"
    }
   ],
   "source": [
    "'''\n",
    "Question4\n",
    "This Triangular Number Sequence is generated from a pattern of dots that form a triangle.\n",
    "The first 5 numbers of the sequence, or dots, are:\n",
    "1, 3, 6, 10, 15\n",
    "This means that the first triangle has just one dot, the second one has three dots, the third one\n",
    "has 6 dots and so on.\n",
    "Write a function that gives the number of dots with its corresponding triangle number of the\n",
    "sequence.\n",
    "Examples\n",
    "triangle(1) ➞ 1\n",
    "triangle(6) ➞ 21\n",
    "triangle(215) ➞ 23220\n",
    "'''\n",
    "def triangle(num):\n",
    "    sum=0\n",
    "    for i in range(num+1):\n",
    "        sum+=i\n",
    "    return sum\n",
    "\n",
    "triangle(215)\n",
    "        "
   ]
  },
  {
   "cell_type": "code",
   "execution_count": 65,
   "metadata": {},
   "outputs": [
    {
     "data": {
      "text/plain": [
       "10"
      ]
     },
     "execution_count": 65,
     "metadata": {},
     "output_type": "execute_result"
    }
   ],
   "source": [
    "'''\n",
    "Question5\n",
    "Create a function that takes a list of numbers between 1 and 10 (excluding one number) and\n",
    "returns the missing number.\n",
    "Examples\n",
    "missing_num([1, 2, 3, 4, 6, 7, 8, 9, 10]) ➞ 5\n",
    "missing_num([7, 2, 3, 6, 5, 9, 1, 4, 8]) ➞ 10\n",
    "missing_num([10, 5, 1, 2, 4, 6, 8, 3, 9]) ➞ 7\n",
    "'''\n",
    "def missing_num(l=[]):\n",
    "    for i in range(1,11):\n",
    "        if i not in l:\n",
    "            return i\n",
    "        \n",
    "        \n",
    "missing_num([7,2,3,6,5,9,1,4,8])"
   ]
  },
  {
   "cell_type": "code",
   "execution_count": null,
   "metadata": {},
   "outputs": [],
   "source": []
  }
 ],
 "metadata": {
  "kernelspec": {
   "display_name": "Python 3",
   "language": "python",
   "name": "python3"
  },
  "language_info": {
   "codemirror_mode": {
    "name": "ipython",
    "version": 3
   },
   "file_extension": ".py",
   "mimetype": "text/x-python",
   "name": "python",
   "nbconvert_exporter": "python",
   "pygments_lexer": "ipython3",
   "version": "3.7.4"
  }
 },
 "nbformat": 4,
 "nbformat_minor": 2
}
