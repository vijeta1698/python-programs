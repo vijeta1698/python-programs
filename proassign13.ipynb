{
 "cells": [
  {
   "cell_type": "code",
   "execution_count": 14,
   "metadata": {},
   "outputs": [
    {
     "name": "stdout",
     "output_type": "stream",
     "text": [
      "Enter:100,150,180\n",
      "output:\n",
      "18,22,24\n"
     ]
    }
   ],
   "source": [
    "'''1.Write a program that calculates and prints the value according to the given formula:\n",
    "Q = Square root of [(2 * C * D)/H]\n",
    "Following are the fixed values of C and H:\n",
    "C is 50. H is 30.\n",
    "D is the variable whose values should be input to your program in a comma-separated\n",
    "sequence.\n",
    "Example\n",
    "Let us assume the following comma separated input sequence is given to the program:\n",
    "100,150,180\n",
    "The output of the program should be:\n",
    "18,22,24\n",
    "'''\n",
    "\n",
    "import math as m\n",
    "d=input(\"Enter:\")\n",
    "dd=d.split(',')\n",
    "c,h=50,30\n",
    "ll=[]\n",
    "for i in dd:\n",
    "    res=m.sqrt(2*c*int(i)/h)\n",
    "    ll.append(m.trunc(res))\n",
    "print(\"output:\")\n",
    "print(*ll,sep=\",\")"
   ]
  },
  {
   "cell_type": "code",
   "execution_count": 38,
   "metadata": {},
   "outputs": [
    {
     "name": "stdout",
     "output_type": "stream",
     "text": [
      "enter value of X:3\n",
      "enter value of Y:5\n",
      "output:\n",
      "[[0, 0, 0, 0, 0], [0, 1, 2, 3, 4], [0, 2, 4, 6, 8]]\n"
     ]
    }
   ],
   "source": [
    "'''\n",
    "Question 2:\n",
    "Write a program which takes 2 digits, X,Y as input and generates a 2-dimensional array. The\n",
    "element value in the i-th row and j-th column of the array should be i*j.\n",
    "Note: i=0,1.., X-1; j=0,1,¡Y-1.\n",
    "Example\n",
    "Suppose the following inputs are given to the program:\n",
    "3,5\n",
    "Then, the output of the program should be:\n",
    "[[0, 0, 0, 0, 0], [0, 1, 2, 3, 4], [0, 2, 4, 6, 8]]\n",
    "'''\n",
    "\n",
    "x=int(input(\"enter value of X:\"))\n",
    "y=int(input(\"enter value of Y:\"))\n",
    "ll=[]\n",
    "for i in range(0,x):\n",
    "    l=[]\n",
    "    for j in range(0,y):\n",
    "        l.append(i*j)\n",
    "    ll.append(l)\n",
    "print(\"output:\")\n",
    "print(ll)"
   ]
  },
  {
   "cell_type": "code",
   "execution_count": 12,
   "metadata": {},
   "outputs": [
    {
     "name": "stdout",
     "output_type": "stream",
     "text": [
      "enter comma separated sequence: without,hello,bag,world\n",
      "after sorting the sequence:\n",
      "bag,hello,without,world\n"
     ]
    }
   ],
   "source": [
    "'''\n",
    "Question 3:\n",
    "Write a program that accepts a comma separated sequence of words as input and prints the\n",
    "words in a comma-separated sequence after sorting them alphabetically.\n",
    "Suppose the following input is supplied to the program:\n",
    "without,hello,bag,world\n",
    "Then, the output should be:\n",
    "bag,hello,without,world\n",
    "'''\n",
    "string=str(input(\"enter comma separated sequence: \"))\n",
    "l=string.split(\",\")\n",
    "l.sort()\n",
    "print(\"after sorting the sequence:\")\n",
    "print(*l,sep=\",\")"
   ]
  },
  {
   "cell_type": "code",
   "execution_count": 30,
   "metadata": {},
   "outputs": [
    {
     "name": "stdout",
     "output_type": "stream",
     "text": [
      "enter whitespace separated words:\n",
      "hello world and practice makes perfect and hello world again\n",
      "output: \n",
      "again and hello makes perfect practice world\n"
     ]
    }
   ],
   "source": [
    "'''\n",
    "Question 4:\n",
    "Write a program that accepts a sequence of whitespace separated words as input and prints\n",
    "the words after removing all duplicate words and sorting them alphanumerically.\n",
    "Suppose the following input is supplied to the program:\n",
    "hello world and practice makes perfect and hello world again\n",
    "Then, the output should be:\n",
    "again and hello makes perfect practice world\n",
    "'''\n",
    "st=str(input(\"enter whitespace separated words:\\n\"))\n",
    "s=st.split()\n",
    "dup=[]\n",
    "for i in s:\n",
    "    if i not in dup:\n",
    "        dup.append(i)\n",
    "dup.sort()\n",
    "print(\"output: \")\n",
    "print(*dup)"
   ]
  },
  {
   "cell_type": "code",
   "execution_count": 4,
   "metadata": {},
   "outputs": [
    {
     "name": "stdout",
     "output_type": "stream",
     "text": [
      "enter sentence:hello world! 123\n",
      "LETTERS  10\n",
      "DIGITS 3\n"
     ]
    }
   ],
   "source": [
    "'''\n",
    "Question 5:\n",
    "Write a program that accepts a sentence and calculate the number of letters and digits.\n",
    "Suppose the following input is supplied to the program:\n",
    "hello world! 123\n",
    "Then, the output should be:\n",
    "LETTERS 10\n",
    "DIGIT 3\n",
    "'''\n",
    "sent=input(\"enter sentence:\")\n",
    "st,dig=0,0\n",
    "for i in sent:\n",
    "    if i.isdigit():\n",
    "        dig+=1\n",
    "    if i.isalpha():\n",
    "        st+=1\n",
    "print(\"LETTERS \",st)\n",
    "print(\"DIGITS\",dig)"
   ]
  },
  {
   "cell_type": "code",
   "execution_count": 33,
   "metadata": {},
   "outputs": [
    {
     "name": "stdout",
     "output_type": "stream",
     "text": [
      "ABd1234@1,a F1#,2w3E*,2We3345\n",
      "valid password:  ABd1234@1\n"
     ]
    }
   ],
   "source": [
    "'''\n",
    "Question 6:\n",
    "A website requires the users to input username and password to register. Write a program to\n",
    "check the validity of password input by users.\n",
    "Following are the criteria for checking the password:\n",
    "1. At least 1 letter between [a-z]\n",
    "2. At least 1 number between [0-9]\n",
    "1. At least 1 letter between [A-Z]\n",
    "3. At least 1 character from [$#@]\n",
    "4. Minimum length of transaction password: 6\n",
    "5. Maximum length of transaction password: 12\n",
    "Your program should accept a sequence of comma separated passwords and will check them\n",
    "according to the above criteria. Passwords that match the criteria are to be printed, each\n",
    "separated by a comma.\n",
    "Example\n",
    "If the following passwords are given as input to the program:\n",
    "ABd1234@1,a F1#,2w3E*,2We3345\n",
    "Then, the output of the program should be:\n",
    "ABd1234@1\n",
    "'''\n",
    "\n",
    "st=input()\n",
    "d=st.split(',')\n",
    "alpha,digit,upper,lower,sc=0,0,0,0,0\n",
    "for i in d:\n",
    "    if len(i)>=6 and len(i)<=12:\n",
    "        for j in i:\n",
    "            if j.isalpha():\n",
    "                alpha+=1\n",
    "            if j.isdigit():\n",
    "                digit+=1\n",
    "                \n",
    "            if j.isupper():\n",
    "                upper+=1\n",
    "                \n",
    "            if j.islower():\n",
    "                lower+=1   \n",
    "            if(j=='$' or j=='@' or j=='#'):\n",
    "                sc+=1\n",
    "        if (alpha>=1 and digit>=1 and upper>=1 and lower>=1 and sc>=1):\n",
    "                print(\"valid password: \",i)\n",
    "                break\n",
    "                \n",
    "        \n",
    "        \n",
    "                "
   ]
  },
  {
   "cell_type": "code",
   "execution_count": null,
   "metadata": {},
   "outputs": [],
   "source": []
  }
 ],
 "metadata": {
  "kernelspec": {
   "display_name": "Python 3",
   "language": "python",
   "name": "python3"
  },
  "language_info": {
   "codemirror_mode": {
    "name": "ipython",
    "version": 3
   },
   "file_extension": ".py",
   "mimetype": "text/x-python",
   "name": "python",
   "nbconvert_exporter": "python",
   "pygments_lexer": "ipython3",
   "version": "3.7.4"
  }
 },
 "nbformat": 4,
 "nbformat_minor": 2
}
