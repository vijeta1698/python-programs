{
 "cells": [
  {
   "cell_type": "code",
   "execution_count": 29,
   "metadata": {},
   "outputs": [
    {
     "name": "stdout",
     "output_type": "stream",
     "text": [
      "words greater than given length are:\n"
     ]
    },
    {
     "data": {
      "text/plain": [
       "'hello,everyone'"
      ]
     },
     "execution_count": 29,
     "metadata": {},
     "output_type": "execute_result"
    }
   ],
   "source": [
    "#1. Write a Python program to find words which are greater than given length k?\n",
    "def words_grt(k,str):\n",
    "    l=[]\n",
    "    str=str.split()\n",
    "    for i in str:\n",
    "        if len(i)>k:\n",
    "            l.append(i)\n",
    "    st=(\",\".join(l))\n",
    "    return st\n",
    "print(\"words greater than given length are:\")\n",
    "words_grt(3,\"hello everyone how are you all ?\")"
   ]
  },
  {
   "cell_type": "code",
   "execution_count": 30,
   "metadata": {},
   "outputs": [
    {
     "name": "stdout",
     "output_type": "stream",
     "text": [
      "enter the index of character to be removed 4\n",
      "ineu on full stack data science class\n"
     ]
    }
   ],
   "source": [
    "#2. Write a Python program for removing i-th character from a string?\n",
    "st=\"ineuron full stack data science class\"\n",
    "n=int(input(\"enter the index of character to be removed \"))\n",
    "if st[n]==\" \":\n",
    "    print(st.replace(st[n],\"\",1))\n",
    "else:\n",
    "    print(st.replace(st[n],\" \",1))"
   ]
  },
  {
   "cell_type": "code",
   "execution_count": 8,
   "metadata": {},
   "outputs": [
    {
     "name": "stdout",
     "output_type": "stream",
     "text": [
      "split string:  ['sunday', 'is', 'a', 'whole', 'good', 'mood']\n",
      "join string:  sunday-is-a-whole-good-mood\n"
     ]
    }
   ],
   "source": [
    "#3. Write a Python program to split and join a string?\n",
    "def split_str(st):\n",
    "    strr=st.split()\n",
    "    return strr\n",
    "def join_str(ls):\n",
    "    strr1=\"-\".join(ls)\n",
    "    return strr1\n",
    "    \n",
    "str=\"sunday is a whole good mood\"\n",
    "st1=split_str(str)\n",
    "print(\"split string: \",st1)\n",
    "st2=join_str(st1)\n",
    "print(\"join string: \",st2)\n"
   ]
  },
  {
   "cell_type": "code",
   "execution_count": 54,
   "metadata": {},
   "outputs": [
    {
     "name": "stdout",
     "output_type": "stream",
     "text": [
      "its a binary string\n"
     ]
    }
   ],
   "source": [
    "#4. Write a Python to check if a given string is binary string or not?\n",
    "str=\"101010\"\n",
    "st=set(str)\n",
    "p={'0','1'}\n",
    "if st==p or st=={'0'} or st=={'1'}:\n",
    "    print(\"its a binary string\")\n",
    "else:\n",
    "    print(\"its not a binary string\")"
   ]
  },
  {
   "cell_type": "code",
   "execution_count": 55,
   "metadata": {},
   "outputs": [
    {
     "name": "stdout",
     "output_type": "stream",
     "text": [
      "enter first string fb insta\n",
      "enter second string insta fb snap\n",
      "uncommon words are:\n",
      "snap\n"
     ]
    }
   ],
   "source": [
    "#5. Write a Python program to find uncommon words from two Strings?\n",
    "try:\n",
    "    st=input(\"enter first string \")\n",
    "    stt=input(\"enter second string \")\n",
    "    l=st.split()\n",
    "    v=stt.split()\n",
    "    ll=[]\n",
    "    kk=[]\n",
    "    for i in l:\n",
    "        if i not in v:\n",
    "            ll.append(i)       \n",
    "    for j in v:\n",
    "         if j not in l:\n",
    "            kk.append(j)\n",
    "    if len(ll+kk)==0:\n",
    "        print(\"no common words found!\")\n",
    "    else:\n",
    "        print(\"uncommon words are:\")\n",
    "        print(*(ll+kk),sep=\",\")\n",
    "except Exception as e:\n",
    "    print(e)\n"
   ]
  },
  {
   "cell_type": "code",
   "execution_count": 1,
   "metadata": {},
   "outputs": [
    {
     "name": "stdout",
     "output_type": "stream",
     "text": [
      "duplicate characters in the string:\n"
     ]
    },
    {
     "data": {
      "text/plain": [
       "'a,m'"
      ]
     },
     "execution_count": 1,
     "metadata": {},
     "output_type": "execute_result"
    }
   ],
   "source": [
    "#6. Write a Python to find all duplicate characters in string?\n",
    "def duplicate(str):\n",
    "    l=[]\n",
    "    d=[]\n",
    "    for i in str:\n",
    "        if i not in l:\n",
    "            l.append(i)\n",
    "        else:\n",
    "            d.append(i)\n",
    "            if d.count(i)>1:\n",
    "                d.remove(i)\n",
    "            if i==\" \":\n",
    "                d.remove(i)\n",
    "    st=\",\".join(d)\n",
    "    return st\n",
    "print(\"duplicate characters in the string:\")\n",
    "duplicate(\"vijetaa sharmm\")\n",
    "        \n"
   ]
  },
  {
   "cell_type": "code",
   "execution_count": 2,
   "metadata": {},
   "outputs": [
    {
     "name": "stdout",
     "output_type": "stream",
     "text": [
      "True\n"
     ]
    }
   ],
   "source": [
    "#7. Write a Python Program to check if a string contains any special character?\n",
    "dit={1:\"!\",2:\"?\",3:\".\",4:\",\",5:\"@\",6:\"()\",7:\"#\",8:\"/\",9:\"_\",10:\"[\",11:\"]\",12:\"\\\\\",13:\"*\",14:\"&\",15:\"'\\'\"}\n",
    "sr=\"vijeyeta@gmail.com\"\n",
    "l=list(sr)\n",
    "c=False\n",
    "for i in sr:\n",
    "    for j in dit:\n",
    "        if dit[j]==i:\n",
    "            c=True\n",
    "            \n",
    "print(c)\n",
    "        "
   ]
  }
 ],
 "metadata": {
  "kernelspec": {
   "display_name": "Python 3",
   "language": "python",
   "name": "python3"
  },
  "language_info": {
   "codemirror_mode": {
    "name": "ipython",
    "version": 3
   },
   "file_extension": ".py",
   "mimetype": "text/x-python",
   "name": "python",
   "nbconvert_exporter": "python",
   "pygments_lexer": "ipython3",
   "version": "3.7.4"
  }
 },
 "nbformat": 4,
 "nbformat_minor": 2
}
