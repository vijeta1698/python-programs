{
 "cells": [
  {
   "cell_type": "code",
   "execution_count": 3,
   "metadata": {},
   "outputs": [
    {
     "name": "stdout",
     "output_type": "stream",
     "text": [
      "enter number of elements:4\n",
      "enter element at position 0 in the list 1\n",
      "enter element at position 1 in the list 2\n",
      "enter element at position 2 in the list 3\n",
      "enter element at position 3 in the list 4\n",
      "[1, 2, 3, 4]\n",
      "sum of elements in the list: 10\n"
     ]
    }
   ],
   "source": [
    "#1. Write a Python program to find sum of elements in list?\n",
    "l=[]\n",
    "n=int(input(\"enter number of elements:\"))\n",
    "for i in range(n):\n",
    "    el=int(input(\"enter element at position \"+str(i)+ \" in the list \"))\n",
    "    l.append(el)\n",
    "print(l)\n",
    "s=0\n",
    "for i in l:\n",
    "    s+=i\n",
    "print(\"sum of elements in the list:\",s)"
   ]
  },
  {
   "cell_type": "code",
   "execution_count": 1,
   "metadata": {},
   "outputs": [
    {
     "name": "stdout",
     "output_type": "stream",
     "text": [
      "enter number of elements:5\n",
      "enter element at position 0 in the list 1\n",
      "enter element at position 1 in the list 2\n",
      "enter element at position 2 in the list 3\n",
      "enter element at position 3 in the list 4\n",
      "enter element at position 4 in the list 5\n",
      "[1, 2, 3, 4, 5]\n",
      "RESULT=  120\n"
     ]
    }
   ],
   "source": [
    "#2. Write a Python program to Multiply all numbers in the list?\n",
    "l=[]\n",
    "n=int(input(\"enter number of elements:\"))\n",
    "for i in range(n):\n",
    "    el=int(input(\"enter element at position \"+str(i)+ \" in the list \"))\n",
    "    l.append(el)\n",
    "print(l)\n",
    "n=0\n",
    "s=1\n",
    "for i in range(len(l)):\n",
    "    s=s*l[i]\n",
    "print(\"RESULT= \",s)\n",
    "\n",
    "    "
   ]
  },
  {
   "cell_type": "code",
   "execution_count": 7,
   "metadata": {},
   "outputs": [
    {
     "name": "stdout",
     "output_type": "stream",
     "text": [
      "enter number of elements:5\n",
      "enter element at position 0 in the list 8\n",
      "enter element at position 1 in the list 9\n",
      "enter element at position 2 in the list 4\n",
      "enter element at position 3 in the list 3\n",
      "enter element at position 4 in the list 7\n",
      "[8, 9, 4, 3, 7]\n",
      "smallest number in the list:  3\n"
     ]
    }
   ],
   "source": [
    "#3. Write a Python program to find smallest number in a list?\n",
    "l=[]\n",
    "n=int(input(\"enter number of elements:\"))\n",
    "for i in range(n):\n",
    "    el=int(input(\"enter element at position \"+str(i)+ \" in the list \"))\n",
    "    l.append(el)\n",
    "print(l)\n",
    "minn=l[0]\n",
    "for i in range(len(l)):\n",
    "    if l[i]<minn:\n",
    "        minn=l[i]\n",
    "print(\"smallest number in the list: \",minn)"
   ]
  },
  {
   "cell_type": "code",
   "execution_count": 8,
   "metadata": {},
   "outputs": [
    {
     "name": "stdout",
     "output_type": "stream",
     "text": [
      "enter number of elements:5\n",
      "enter element at position 0 in the list 66\n",
      "enter element at position 1 in the list 77\n",
      "enter element at position 2 in the list 88\n",
      "enter element at position 3 in the list 22\n",
      "enter element at position 4 in the list 1\n",
      "[66, 77, 88, 22, 1]\n",
      "largest element in the list:  88\n"
     ]
    }
   ],
   "source": [
    "#4. Write a Python program to find largest number in a list?\n",
    "l=[]\n",
    "n=int(input(\"enter number of elements:\"))\n",
    "for i in range(n):\n",
    "    el=int(input(\"enter element at position \"+str(i)+ \" in the list \"))\n",
    "    l.append(el)\n",
    "print(l)\n",
    "maxx=l[0]\n",
    "for i in range(len(l)):\n",
    "    if l[i]>maxx:\n",
    "        maxx=l[i]\n",
    "print(\"largest element in the list: \",maxx)"
   ]
  },
  {
   "cell_type": "code",
   "execution_count": 16,
   "metadata": {},
   "outputs": [
    {
     "name": "stdout",
     "output_type": "stream",
     "text": [
      "enter number of elements 5\n",
      "Enter element at position 0 in the list 66\n",
      "Enter element at position 1 in the list 77\n",
      "Enter element at position 2 in the list 88\n",
      "Enter element at position 3 in the list 99\n",
      "Enter element at position 4 in the list 1\n",
      "[66, 77, 88, 99, 1]\n",
      "second largest element in the list is:  88\n"
     ]
    }
   ],
   "source": [
    "#5. Write a Python program to find second largest number in a list?\n",
    "l=[]\n",
    "n=int(input(\"enter number of elements \"))\n",
    "for i in range(n):\n",
    "    el=int(input(\"Enter element at position \"+str(i)+ \" in the list \"))\n",
    "    l.append(el)\n",
    "print(l)\n",
    "maxx=l[0]\n",
    "for i in range(len(l)):\n",
    "    if l[i]>maxx:\n",
    "        maxx=l[i]\n",
    "l.remove(maxx)\n",
    "\n",
    "max2=l[0]\n",
    "for j in range(len(l)):\n",
    "    if l[j]>max2:\n",
    "        max2=l[j]\n",
    "print(\"second largest element in the list is: \",max2)"
   ]
  },
  {
   "cell_type": "code",
   "execution_count": 1,
   "metadata": {},
   "outputs": [
    {
     "name": "stdout",
     "output_type": "stream",
     "text": [
      "Enter element at position 0 in the list 2\n",
      "Enter element at position 1 in the list 12\n",
      "Enter element at position 2 in the list 34\n",
      "Enter element at position 3 in the list 56\n",
      "Enter element at position 4 in the list 5\n",
      "Enter element at position 5 in the list 67\n",
      "[2, 12, 34, 56, 5, 67]\n",
      "1 largest element is: 67\n",
      "2 largest element is: 56\n",
      "3 largest element is: 34\n"
     ]
    }
   ],
   "source": [
    "#6. Write a Python program to find N largest elements from a list?\n",
    "def largest_num(n,nn):\n",
    "    l=[]\n",
    "    for i in range(n):\n",
    "        el=int(input(\"Enter element at position \"+str(i)+ \" in the list \"))\n",
    "        l.append(el)\n",
    "    print(l)\n",
    "    j=0\n",
    "    while j<nn:\n",
    "        maxx=l[0]\n",
    "        for i in range(len(l)):\n",
    "                if l[i]>maxx:\n",
    "                     maxx=l[i]\n",
    "        l.remove(maxx)\n",
    "        print(str(j+1)+ \" largest element is:\",maxx)\n",
    "        j+=1\n",
    "        \n",
    "largest_num(6,3)            "
   ]
  },
  {
   "cell_type": "code",
   "execution_count": 10,
   "metadata": {},
   "outputs": [
    {
     "name": "stdout",
     "output_type": "stream",
     "text": [
      "enter number of elements 4\n",
      "Enter element at position 0 in the list 1\n",
      "Enter element at position 1 in the list 2\n",
      "Enter element at position 2 in the list 3\n",
      "Enter element at position 3 in the list 4\n",
      "[1, 2, 3, 4]\n",
      "even numbers in the list are:  2\n",
      "even numbers in the list are:  2,4\n"
     ]
    }
   ],
   "source": [
    "#7. Write a Python program to print even numbers in a list?\n",
    "l=[]\n",
    "n=int(input(\"enter number of elements \"))\n",
    "for i in range(n):\n",
    "    el=int(input(\"Enter element at position \"+str(i)+ \" in the list \"))\n",
    "    l.append(el)\n",
    "print(l) \n",
    "ll=[]\n",
    "for j in l:\n",
    "    if j%2==0:\n",
    "        ll.append(str(j))\n",
    "        print(\"even numbers in the list are: \",\",\".join(ll))"
   ]
  },
  {
   "cell_type": "code",
   "execution_count": 20,
   "metadata": {},
   "outputs": [
    {
     "name": "stdout",
     "output_type": "stream",
     "text": [
      "enter number of elements 6\n",
      "Enter element at position 0 in the list 23\n",
      "Enter element at position 1 in the list 44\n",
      "Enter element at position 2 in the list 33\n",
      "Enter element at position 3 in the list 12\n",
      "Enter element at position 4 in the list 7\n",
      "Enter element at position 5 in the list 8\n",
      "[23, 44, 33, 12, 7, 8]\n",
      "odd numbers in the list are:  23,33,7\n"
     ]
    }
   ],
   "source": [
    "#8. Write a Python program to print odd numbers in a List?\n",
    "l=[]\n",
    "n=int(input(\"enter number of elements \"))\n",
    "for i in range(n):\n",
    "    el=int(input(\"Enter element at position \"+str(i)+ \" in the list \"))\n",
    "    l.append(el)\n",
    "print(l) \n",
    "ll=[]\n",
    "for j in l:\n",
    "    if (j%2)!=0:\n",
    "        ll.append(str(j))\n",
    "print(\"odd numbers in the list are: \",\",\".join(ll))"
   ]
  },
  {
   "cell_type": "code",
   "execution_count": 3,
   "metadata": {},
   "outputs": [
    {
     "name": "stdout",
     "output_type": "stream",
     "text": [
      "[1, 2, 3, 67]\n"
     ]
    }
   ],
   "source": [
    "#9. Write a Python program to Remove empty List from List?\n",
    "l=[1,2,3,[],67]\n",
    "for i in l:\n",
    "    if type(i)==list:\n",
    "        if len(i)==0:\n",
    "            l.remove(i)\n",
    "print(l)"
   ]
  },
  {
   "cell_type": "code",
   "execution_count": 2,
   "metadata": {},
   "outputs": [
    {
     "name": "stdout",
     "output_type": "stream",
     "text": [
      "enter elements at position 0 3\n",
      "enter elements at position 1 4\n",
      "enter elements at position 2 5\n",
      "original list :  ['3', '4', '5']\n",
      "copied list:  ['3', '4', '5']\n"
     ]
    }
   ],
   "source": [
    "#10. Write a Python program to Cloning or Copying a list?\n",
    "def cop(n):\n",
    "    l=[]\n",
    "    for i in range(n):\n",
    "        el=input(\"enter elements at position \" +str(i)+\" \" )\n",
    "        l.append(el)\n",
    "    print(\"original list : \",l)\n",
    "    ll=list(l)\n",
    "    print(\"copied list: \",ll)\n",
    "    \n",
    "cop(3)"
   ]
  },
  {
   "cell_type": "code",
   "execution_count": 14,
   "metadata": {},
   "outputs": [
    {
     "data": {
      "text/plain": [
       "2"
      ]
     },
     "execution_count": 14,
     "metadata": {},
     "output_type": "execute_result"
    }
   ],
   "source": [
    "#11. Write a Python program to Count occurrences of an element in a list?\n",
    "l=[1,2,3,4,5,6,4,'a','b','a']\n",
    "l.count('a')\n"
   ]
  },
  {
   "cell_type": "code",
   "execution_count": null,
   "metadata": {},
   "outputs": [],
   "source": []
  }
 ],
 "metadata": {
  "kernelspec": {
   "display_name": "Python 3",
   "language": "python",
   "name": "python3"
  },
  "language_info": {
   "codemirror_mode": {
    "name": "ipython",
    "version": 3
   },
   "file_extension": ".py",
   "mimetype": "text/x-python",
   "name": "python",
   "nbconvert_exporter": "python",
   "pygments_lexer": "ipython3",
   "version": "3.7.4"
  }
 },
 "nbformat": 4,
 "nbformat_minor": 2
}
