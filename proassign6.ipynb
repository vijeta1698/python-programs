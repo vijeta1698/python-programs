{
 "cells": [
  {
   "cell_type": "markdown",
   "metadata": {},
   "source": [
    "proAssign6"
   ]
  },
  {
   "cell_type": "code",
   "execution_count": 12,
   "metadata": {},
   "outputs": [
    {
     "name": "stdout",
     "output_type": "stream",
     "text": [
      "enter number of terms:7\n",
      "0\n",
      "1\n",
      "1\n",
      "2\n",
      "3\n",
      "5\n",
      "8\n"
     ]
    }
   ],
   "source": [
    "#1. Write a Python Program to Display Fibonacci Sequence Using Recursion?\n",
    "def fib(x):\n",
    "    if x<=1:\n",
    "        return x\n",
    "    else:\n",
    "        return (fib(x-1)+fib(x-2))\n",
    "    \n",
    "n=int(input(\"enter number of terms:\"))\n",
    "for i in range(n):\n",
    "    print(fib(i))\n"
   ]
  },
  {
   "cell_type": "code",
   "execution_count": 1,
   "metadata": {},
   "outputs": [
    {
     "data": {
      "text/plain": [
       "24"
      ]
     },
     "execution_count": 1,
     "metadata": {},
     "output_type": "execute_result"
    }
   ],
   "source": [
    "#2. Write a Python Program to Find Factorial of Number Using Recursion?\n",
    "def fac(x):\n",
    "    if x==1:\n",
    "        return 1\n",
    "    else:\n",
    "        return (x*fac(x-1))\n",
    "fac(4)"
   ]
  },
  {
   "cell_type": "code",
   "execution_count": 12,
   "metadata": {},
   "outputs": [
    {
     "name": "stdout",
     "output_type": "stream",
     "text": [
      "Enter your weight:50\n",
      "kg or lbs:kg\n",
      "Enter your height:1.64\n",
      "m or inches:m\n",
      "BMI: 18.59\n",
      "normal\n"
     ]
    }
   ],
   "source": [
    "#3. Write a Python Program to calculate your Body Mass Index?\n",
    "w=float(input(\"Enter your weight:\"))\n",
    "kg=input(\"kg or lbs:\")\n",
    "h=float(input(\"Enter your height:\"))\n",
    "inch=input(\"m or inches:\")\n",
    "if kg==\"kg\" and inch==\"m\":\n",
    "    bmi=w/(h*h)\n",
    "    print(\"BMI:\",round(bmi,2))\n",
    "else:\n",
    "    bmi=(w/(h*h)) * 703\n",
    "    print(\"BMI:\",round(bmi,2))\n",
    "if bmi<18.5:\n",
    "    print(\"underweight\")\n",
    "    if bmi<16.00:\n",
    "        print(\"severe thinness\")\n",
    "    elif bmi<16.99:\n",
    "        print(\"moderate thinness\")\n",
    "    else:\n",
    "        print(\"mild thinness\")\n",
    "elif bmi<=24.9:\n",
    "        print(\"normal\")\n",
    "elif bmi<=25.0 or bmi<=29.9:\n",
    "        print(\"overweight\")\n",
    "        if bmi<=29.99:\n",
    "            print(\"pre obese\")\n",
    "elif bmi<=30.0 or bmi<=39.9:\n",
    "    print(\"obese\")\n",
    "    if bmi<=34.99:\n",
    "        print(\"obese class I\")\n",
    "    elif bmi<=39.99:\n",
    "        print(\"obese class II\")\n",
    "    else:\n",
    "        print(\"obese class III\")\n",
    "else:\n",
    "    print(\"morbidly obese\")"
   ]
  },
  {
   "cell_type": "code",
   "execution_count": null,
   "metadata": {},
   "outputs": [],
   "source": [
    "#4. Write a Python Program to calculate the natural logarithm of any number?"
   ]
  },
  {
   "cell_type": "code",
   "execution_count": 16,
   "metadata": {},
   "outputs": [
    {
     "name": "stdout",
     "output_type": "stream",
     "text": [
      "ENter number upto which you want to calculate the cube sum:12\n",
      "Sum of the cubes of first 12 numbers: 6084.0\n"
     ]
    }
   ],
   "source": [
    "#5. Write a Python Program for cube sum of first n natural numbers?\n",
    "n=int(input(\"ENter number upto which you want to calculate the cube sum:\"))\n",
    "sum=(n*(n+1)/2)*(n*(n+1)/2)\n",
    "print(f'Sum of the cubes of first {n} numbers:',sum)"
   ]
  },
  {
   "cell_type": "raw",
   "metadata": {},
   "source": []
  },
  {
   "cell_type": "code",
   "execution_count": null,
   "metadata": {},
   "outputs": [],
   "source": []
  }
 ],
 "metadata": {
  "kernelspec": {
   "display_name": "Python 3",
   "language": "python",
   "name": "python3"
  },
  "language_info": {
   "codemirror_mode": {
    "name": "ipython",
    "version": 3
   },
   "file_extension": ".py",
   "mimetype": "text/x-python",
   "name": "python",
   "nbconvert_exporter": "python",
   "pygments_lexer": "ipython3",
   "version": "3.7.4"
  }
 },
 "nbformat": 4,
 "nbformat_minor": 2
}
